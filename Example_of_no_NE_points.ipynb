{
  "nbformat": 4,
  "nbformat_minor": 0,
  "metadata": {
    "colab": {
      "name": "Example of no NE points.ipynb",
      "provenance": [],
      "collapsed_sections": [],
      "authorship_tag": "ABX9TyOwstNkmLyc2LUs0xbHlx7Y",
      "include_colab_link": true
    },
    "kernelspec": {
      "name": "python3",
      "display_name": "Python 3"
    },
    "language_info": {
      "name": "python"
    }
  },
  "cells": [
    {
      "cell_type": "markdown",
      "metadata": {
        "id": "view-in-github",
        "colab_type": "text"
      },
      "source": [
        "<a href=\"https://colab.research.google.com/github/DarkStarQuantumLab/NashEquilibrium/blob/main/Example_of_no_NE_points.ipynb\" target=\"_parent\"><img src=\"https://colab.research.google.com/assets/colab-badge.svg\" alt=\"Open In Colab\"/></a>"
      ]
    },
    {
      "cell_type": "markdown",
      "source": [
        "# Matching Pennies Game "
      ],
      "metadata": {
        "id": "nHyZNtuTaAiz"
      }
    },
    {
      "cell_type": "markdown",
      "source": [
        "Consider a two players two strategies game as desribe here: https://en.wikipedia.org/wiki/Matching_pennies"
      ],
      "metadata": {
        "id": "-0tfW5FvaEx7"
      }
    },
    {
      "cell_type": "code",
      "source": [
        "#modules installation\n",
        "!python -m pip install dwave-ocean-sdk\n",
        "!python -m pip install dwave-neal"
      ],
      "metadata": {
        "colab": {
          "base_uri": "https://localhost:8080/"
        },
        "id": "8TvB85VKaEOD",
        "outputId": "80faecd5-77e6-42a5-ec2c-51903b91af92"
      },
      "execution_count": 1,
      "outputs": [
        {
          "output_type": "stream",
          "name": "stdout",
          "text": [
            "Looking in indexes: https://pypi.org/simple, https://us-python.pkg.dev/colab-wheels/public/simple/\n",
            "Requirement already satisfied: dwave-ocean-sdk in /usr/local/lib/python3.7/dist-packages (5.1.0)\n",
            "Requirement already satisfied: minorminer==0.2.8.post1 in /usr/local/lib/python3.7/dist-packages (from dwave-ocean-sdk) (0.2.8.post1)\n",
            "Requirement already satisfied: dwave-hybrid==0.6.7 in /usr/local/lib/python3.7/dist-packages (from dwave-ocean-sdk) (0.6.7)\n",
            "Requirement already satisfied: dwavebinarycsp==0.2.0 in /usr/local/lib/python3.7/dist-packages (from dwave-ocean-sdk) (0.2.0)\n",
            "Requirement already satisfied: penaltymodel==1.0.2 in /usr/local/lib/python3.7/dist-packages (from dwave-ocean-sdk) (1.0.2)\n",
            "Requirement already satisfied: dwave-greedy==0.2.5 in /usr/local/lib/python3.7/dist-packages (from dwave-ocean-sdk) (0.2.5)\n",
            "Requirement already satisfied: dwave-networkx==0.8.12 in /usr/local/lib/python3.7/dist-packages (from dwave-ocean-sdk) (0.8.12)\n",
            "Requirement already satisfied: dwave-cloud-client==0.10.1 in /usr/local/lib/python3.7/dist-packages (from dwave-ocean-sdk) (0.10.1)\n",
            "Requirement already satisfied: dwave-neal==0.5.9 in /usr/local/lib/python3.7/dist-packages (from dwave-ocean-sdk) (0.5.9)\n",
            "Requirement already satisfied: dwave-system==1.15.0 in /usr/local/lib/python3.7/dist-packages (from dwave-ocean-sdk) (1.15.0)\n",
            "Requirement already satisfied: dimod==0.11.1 in /usr/local/lib/python3.7/dist-packages (from dwave-ocean-sdk) (0.11.1)\n",
            "Requirement already satisfied: dwave-preprocessing==0.4.0 in /usr/local/lib/python3.7/dist-packages (from dwave-ocean-sdk) (0.4.0)\n",
            "Requirement already satisfied: dwave-tabu==0.4.5 in /usr/local/lib/python3.7/dist-packages (from dwave-ocean-sdk) (0.4.5)\n",
            "Requirement already satisfied: dwave-inspector==0.2.11 in /usr/local/lib/python3.7/dist-packages (from dwave-ocean-sdk) (0.2.11)\n",
            "Requirement already satisfied: numpy<2.0.0,>=1.20.0 in /usr/local/lib/python3.7/dist-packages (from dimod==0.11.1->dwave-ocean-sdk) (1.21.6)\n",
            "Requirement already satisfied: requests[socks]>=2.18 in /usr/local/lib/python3.7/dist-packages (from dwave-cloud-client==0.10.1->dwave-ocean-sdk) (2.23.0)\n",
            "Requirement already satisfied: pydantic>=1.7.3 in /usr/local/lib/python3.7/dist-packages (from dwave-cloud-client==0.10.1->dwave-ocean-sdk) (1.9.1)\n",
            "Requirement already satisfied: click>=7.0 in /usr/local/lib/python3.7/dist-packages (from dwave-cloud-client==0.10.1->dwave-ocean-sdk) (7.1.2)\n",
            "Requirement already satisfied: homebase>=1.0 in /usr/local/lib/python3.7/dist-packages (from dwave-cloud-client==0.10.1->dwave-ocean-sdk) (1.0.1)\n",
            "Requirement already satisfied: python-dateutil>=2.7 in /usr/local/lib/python3.7/dist-packages (from dwave-cloud-client==0.10.1->dwave-ocean-sdk) (2.8.2)\n",
            "Requirement already satisfied: plucky>=0.4.3 in /usr/local/lib/python3.7/dist-packages (from dwave-cloud-client==0.10.1->dwave-ocean-sdk) (0.4.3)\n",
            "Requirement already satisfied: diskcache>=5.2.1 in /usr/local/lib/python3.7/dist-packages (from dwave-cloud-client==0.10.1->dwave-ocean-sdk) (5.4.0)\n",
            "Requirement already satisfied: importlib-metadata>=1.0 in /usr/local/lib/python3.7/dist-packages (from dwave-greedy==0.2.5->dwave-ocean-sdk) (4.11.3)\n",
            "Requirement already satisfied: networkx in /usr/local/lib/python3.7/dist-packages (from dwave-hybrid==0.6.7->dwave-ocean-sdk) (2.6.3)\n",
            "Requirement already satisfied: importlib-resources>=3.2.0 in /usr/local/lib/python3.7/dist-packages (from dwave-inspector==0.2.11->dwave-ocean-sdk) (5.7.1)\n",
            "Requirement already satisfied: Flask>=1.1.1 in /usr/local/lib/python3.7/dist-packages (from dwave-inspector==0.2.11->dwave-ocean-sdk) (1.1.4)\n",
            "Requirement already satisfied: fasteners in /usr/local/lib/python3.7/dist-packages (from minorminer==0.2.8.post1->dwave-ocean-sdk) (0.17.3)\n",
            "Requirement already satisfied: scipy in /usr/local/lib/python3.7/dist-packages (from minorminer==0.2.8.post1->dwave-ocean-sdk) (1.7.3)\n",
            "Requirement already satisfied: rectangle-packer>=2.0.1 in /usr/local/lib/python3.7/dist-packages (from minorminer==0.2.8.post1->dwave-ocean-sdk) (2.0.1)\n",
            "Requirement already satisfied: itsdangerous<2.0,>=0.24 in /usr/local/lib/python3.7/dist-packages (from Flask>=1.1.1->dwave-inspector==0.2.11->dwave-ocean-sdk) (1.1.0)\n",
            "Requirement already satisfied: Jinja2<3.0,>=2.10.1 in /usr/local/lib/python3.7/dist-packages (from Flask>=1.1.1->dwave-inspector==0.2.11->dwave-ocean-sdk) (2.11.3)\n",
            "Requirement already satisfied: Werkzeug<2.0,>=0.15 in /usr/local/lib/python3.7/dist-packages (from Flask>=1.1.1->dwave-inspector==0.2.11->dwave-ocean-sdk) (1.0.1)\n",
            "Requirement already satisfied: zipp>=0.5 in /usr/local/lib/python3.7/dist-packages (from importlib-metadata>=1.0->dwave-greedy==0.2.5->dwave-ocean-sdk) (3.8.0)\n",
            "Requirement already satisfied: typing-extensions>=3.6.4 in /usr/local/lib/python3.7/dist-packages (from importlib-metadata>=1.0->dwave-greedy==0.2.5->dwave-ocean-sdk) (4.2.0)\n",
            "Requirement already satisfied: MarkupSafe>=0.23 in /usr/local/lib/python3.7/dist-packages (from Jinja2<3.0,>=2.10.1->Flask>=1.1.1->dwave-inspector==0.2.11->dwave-ocean-sdk) (2.0.1)\n",
            "Requirement already satisfied: six>=1.5 in /usr/local/lib/python3.7/dist-packages (from python-dateutil>=2.7->dwave-cloud-client==0.10.1->dwave-ocean-sdk) (1.15.0)\n",
            "Requirement already satisfied: certifi>=2017.4.17 in /usr/local/lib/python3.7/dist-packages (from requests[socks]>=2.18->dwave-cloud-client==0.10.1->dwave-ocean-sdk) (2022.5.18.1)\n",
            "Requirement already satisfied: chardet<4,>=3.0.2 in /usr/local/lib/python3.7/dist-packages (from requests[socks]>=2.18->dwave-cloud-client==0.10.1->dwave-ocean-sdk) (3.0.4)\n",
            "Requirement already satisfied: idna<3,>=2.5 in /usr/local/lib/python3.7/dist-packages (from requests[socks]>=2.18->dwave-cloud-client==0.10.1->dwave-ocean-sdk) (2.10)\n",
            "Requirement already satisfied: urllib3!=1.25.0,!=1.25.1,<1.26,>=1.21.1 in /usr/local/lib/python3.7/dist-packages (from requests[socks]>=2.18->dwave-cloud-client==0.10.1->dwave-ocean-sdk) (1.24.3)\n",
            "Requirement already satisfied: PySocks!=1.5.7,>=1.5.6 in /usr/local/lib/python3.7/dist-packages (from requests[socks]>=2.18->dwave-cloud-client==0.10.1->dwave-ocean-sdk) (1.7.1)\n",
            "Looking in indexes: https://pypi.org/simple, https://us-python.pkg.dev/colab-wheels/public/simple/\n",
            "Requirement already satisfied: dwave-neal in /usr/local/lib/python3.7/dist-packages (0.5.9)\n",
            "Requirement already satisfied: dimod>=0.9.11 in /usr/local/lib/python3.7/dist-packages (from dwave-neal) (0.11.1)\n",
            "Requirement already satisfied: numpy<2.0.0,>=1.19.1 in /usr/local/lib/python3.7/dist-packages (from dwave-neal) (1.21.6)\n"
          ]
        }
      ]
    },
    {
      "cell_type": "code",
      "source": [
        "from dimod import Binary, BQM, ExactSolver\n",
        "import matplotlib.pyplot as plt\n",
        "import dimod, re\n",
        "import neal"
      ],
      "metadata": {
        "id": "2eFDvlvAa8kn"
      },
      "execution_count": 2,
      "outputs": []
    },
    {
      "cell_type": "code",
      "source": [
        "#Contracting QUBO Matrix\n",
        "Q = {}\n",
        "\n",
        "bqm = BQM(Q, vartype='BINARY')\n",
        "\n",
        "# constraints on probability\n",
        "bqm.add_linear_equality_constraint(\n",
        "    [('p1',1), ('p2', 1)], constant=-1, lagrange_multiplier=10\n",
        ")\n",
        "bqm.add_linear_equality_constraint(\n",
        "    [('q1',1), ('q2', 1)],  constant=-1, lagrange_multiplier=10\n",
        ")\n",
        "\n",
        "# inequality constraints\n",
        "# might be irrelevant for this problem\n",
        "\n",
        "bqm.add_linear_inequality_constraint(\n",
        "    [('q1', 1), ('q2', -1)], lb=-1, ub=1, lagrange_multiplier=1, label = 'constr1'\n",
        ")\n",
        "bqm.add_linear_inequality_constraint(\n",
        "    [('q1', -1), ('q2', 1)], lb=-1, ub=1, lagrange_multiplier=1, label = 'constr2'\n",
        ")\n",
        "bqm.add_linear_inequality_constraint(\n",
        "    [('p1', -1), ('p2', 1)], lb=-1, ub=1, lagrange_multiplier=1, label = 'constr3'\n",
        ")\n",
        "bqm.add_linear_inequality_constraint(\n",
        "    [('p1', 1), ('p2', -1)], lb=-1, ub=1, lagrange_multiplier=1, label = 'constr4'\n",
        ")\n",
        "\n",
        "sampler = neal.SimulatedAnnealingSampler()\n",
        "sampleset = sampler.sample(bqm, num_reads=10000)\n",
        "sampleset.lowest()"
      ],
      "metadata": {
        "colab": {
          "base_uri": "https://localhost:8080/"
        },
        "id": "8J5a5h_Ka_UB",
        "outputId": "5c2dfd89-a639-47db-95ec-00a561fe7879"
      },
      "execution_count": 6,
      "outputs": [
        {
          "output_type": "stream",
          "name": "stderr",
          "text": [
            "/usr/local/lib/python3.7/dist-packages/dimod/binary/binary_quadratic_model.py:765: UserWarning: Did not add constraint constr1. This constraint is feasible with any value for state variables.\n",
            "  f'Did not add constraint {label}.'\n",
            "/usr/local/lib/python3.7/dist-packages/dimod/binary/binary_quadratic_model.py:765: UserWarning: Did not add constraint constr2. This constraint is feasible with any value for state variables.\n",
            "  f'Did not add constraint {label}.'\n",
            "/usr/local/lib/python3.7/dist-packages/dimod/binary/binary_quadratic_model.py:765: UserWarning: Did not add constraint constr3. This constraint is feasible with any value for state variables.\n",
            "  f'Did not add constraint {label}.'\n",
            "/usr/local/lib/python3.7/dist-packages/dimod/binary/binary_quadratic_model.py:765: UserWarning: Did not add constraint constr4. This constraint is feasible with any value for state variables.\n",
            "  f'Did not add constraint {label}.'\n"
          ]
        },
        {
          "output_type": "execute_result",
          "data": {
            "text/plain": [
              "SampleSet(rec.array([([0, 1, 1, 0], 0., 1), ([1, 0, 1, 0], 0., 1),\n",
              "           ([1, 0, 1, 0], 0., 1), ..., ([0, 1, 1, 0], 0., 1),\n",
              "           ([1, 0, 1, 0], 0., 1), ([1, 0, 0, 1], 0., 1)],\n",
              "          dtype=[('sample', 'i1', (4,)), ('energy', '<f8'), ('num_occurrences', '<i8')]), Variables(['p1', 'p2', 'q1', 'q2']), {'beta_range': [0.13862943611198905, 0.9210340371976183], 'beta_schedule_type': 'geometric'}, 'BINARY')"
            ]
          },
          "metadata": {},
          "execution_count": 6
        }
      ]
    },
    {
      "cell_type": "code",
      "source": [
        "sampleset.lowest()"
      ],
      "metadata": {
        "colab": {
          "base_uri": "https://localhost:8080/"
        },
        "id": "U6G2TuOkbBnS",
        "outputId": "0eb74993-0a59-4ebe-f5a9-d3f7b14acb59"
      },
      "execution_count": 7,
      "outputs": [
        {
          "output_type": "execute_result",
          "data": {
            "text/plain": [
              "SampleSet(rec.array([([0, 1, 1, 0], 0., 1), ([1, 0, 1, 0], 0., 1),\n",
              "           ([1, 0, 1, 0], 0., 1), ..., ([0, 1, 1, 0], 0., 1),\n",
              "           ([1, 0, 1, 0], 0., 1), ([1, 0, 0, 1], 0., 1)],\n",
              "          dtype=[('sample', 'i1', (4,)), ('energy', '<f8'), ('num_occurrences', '<i8')]), Variables(['p1', 'p2', 'q1', 'q2']), {'beta_range': [0.13862943611198905, 0.9210340371976183], 'beta_schedule_type': 'geometric'}, 'BINARY')"
            ]
          },
          "metadata": {},
          "execution_count": 7
        }
      ]
    },
    {
      "cell_type": "code",
      "source": [
        "# plot results\n",
        "\n",
        "def plot_sampleset(sampleset):\n",
        "    '''Plots results of sampling in a bar style.\n",
        "        Arg: sampleset: a set of samples prodused by DWave's sampler\n",
        "    '''\n",
        "        \n",
        "    keep_vars =['p1', 'p2', 'q1', 'q2']\n",
        "    sampleset = dimod.keep_variables(sampleset, keep_vars)\n",
        "    sampleset = sampleset.aggregate()\n",
        "\n",
        "    df = sampleset.to_pandas_dataframe()\n",
        "\n",
        "    strategies = {}\n",
        "    for i, row in df.iterrows():\n",
        "        strategy = str(df['p1'][i])+str(df['p2'][i])+str(df['q1'][i])+str(df['q2'][i])\n",
        "        if len((re.findall('1', strategy))) <=2:\n",
        "            strategies[strategy]=row['num_occurrences']\n",
        "    \n",
        "    myList = strategies.items()\n",
        "    myList = [('p=(' + item[0][:1]+','+ item[0][1:2]+'), q=('+item[0][2:3]+','+ item[0][3:] +')', item[1]) for item in myList]\n",
        "    myList = sorted(myList) \n",
        "    x, y = zip(*myList) \n",
        "\n",
        "    plt.bar(x,y, color='Blue')\n",
        "    plt.title('Frequency of pure NE points')\n",
        "    plt.xticks(rotation = 60, horizontalalignment=\"right\", rotation_mode=\"anchor\") # Rotates X-Axis Ticks by 60-degrees\n",
        "    plt.xlabel('Pure Strategy')\n",
        "    plt.ylabel('Frequency')\n",
        "    plt.savefig('Frequency_2strategies.png', dpi=600)\n",
        "    plt.show()\n",
        "\n",
        "\n",
        "plot_sampleset(sampleset=sampleset)"
      ],
      "metadata": {
        "colab": {
          "base_uri": "https://localhost:8080/",
          "height": 362
        },
        "id": "rhJk2Xnddwby",
        "outputId": "5630d52c-1bb9-4a0b-fd60-31b1ba87311e"
      },
      "execution_count": 9,
      "outputs": [
        {
          "output_type": "display_data",
          "data": {
            "text/plain": [
              "<Figure size 432x288 with 1 Axes>"
            ],
            "image/png": "[encoded data removed]"
          },
          "metadata": {
            "needs_background": "light"
          }
        }
      ]
    },
    {
      "cell_type": "code",
      "source": [
        ""
      ],
      "metadata": {
        "id": "H1TOnioLd92t"
      },
      "execution_count": null,
      "outputs": []
    }
  ]
}