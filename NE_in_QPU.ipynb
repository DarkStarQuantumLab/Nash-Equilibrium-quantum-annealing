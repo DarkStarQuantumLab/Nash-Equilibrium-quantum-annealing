{
 "cells": [
  {
   "cell_type": "code",
   "execution_count": null,
   "id": "fae97cfc",
   "metadata": {},
   "outputs": [],
   "source": [
    "# update dwave packages\n",
    "!python -m pip install -U dimod dwave-ocean-sdk dwave-neal"
   ]
  },
  {
   "cell_type": "code",
   "execution_count": null,
   "id": "47880e25",
   "metadata": {},
   "outputs": [],
   "source": [
    "# imports \n",
    "\n",
    "from braket.aws import AwsDevice\n",
    "from braket.ocean_plugin import BraketSampler, BraketDWaveSampler\n",
    "from dwave.system import LeapHybridSampler\n",
    "# from dwave.system import FixedEmbeddingComposite\n",
    "\n",
    "from dwave.system.composites import EmbeddingComposite\n",
    "from dwave.system import FixedEmbeddingComposite, LazyFixedEmbeddingComposite\n",
    "from dimod import BQM\n",
    "\n",
    "from dimod.binary_quadratic_model import BinaryQuadraticModel\n",
    "import greedy\n",
    "import dimod\n",
    "import time\n",
    "import numpy as np\n",
    "import re\n",
    "import matplotlib.pyplot as plt\n",
    "import pandas as pd\n",
    "import json\n"
   ]
  },
  {
   "cell_type": "markdown",
   "id": "88a26c1f",
   "metadata": {},
   "source": [
    "# Run experiment for DW 2000Q QPU\n",
    "\n",
    "Custom choise of EmbeddingComposite. The choise of embedding does not affect solution greatly for this simple games. Further investigation is needed for larger number of playesr/strategies."
   ]
  },
  {
   "cell_type": "code",
   "execution_count": null,
   "id": "3ad4c317",
   "metadata": {},
   "outputs": [],
   "source": [
    "device  = AwsDevice('.../DW_2000Q_6')\n",
    "device"
   ]
  },
  {
   "cell_type": "code",
   "execution_count": null,
   "id": "5b7d9991",
   "metadata": {},
   "outputs": [],
   "source": [
    "# Constracting BQM for the 2 strategies game\n",
    "\n",
    "Q = {('p1', 'q1'):-3, ('p1', 'q2'):2, ('p2', 'q2'):-3}\n",
    "bqm = BinaryQuadraticModel(Q, vartype='BINARY')\n",
    "\n",
    "# add constraints\n",
    "\n",
    "bqm.add_linear_equality_constraint([('p1',1), ('p2', 1)], constant=-1, lagrange_multiplier=1)\n",
    "bqm.add_linear_equality_constraint([('q1',1), ('q2', 1)],  constant=-1, lagrange_multiplier=1)\n",
    "bqm.add_linear_inequality_constraint([('q1', 2), ('q2', -1)], lb=-1, ub=2, lagrange_multiplier=1, label = 'constr1')\n",
    "bqm.add_linear_inequality_constraint([('q1', -1), ('q2', 1)], lb=-1, ub=1, lagrange_multiplier=1, label = 'constr2')\n",
    "bqm.add_linear_inequality_constraint([('p1', 1), ('p2', -1)], lb=-1, ub=1, lagrange_multiplier=1, label = 'constr3')\n",
    "bqm.add_linear_inequality_constraint([('p1', 1), ('p2', 2)], lb=-1, ub=2, lagrange_multiplier=1, label = 'constr4')"
   ]
  },
  {
   "cell_type": "code",
   "execution_count": null,
   "id": "c260c138",
   "metadata": {},
   "outputs": [],
   "source": [
    "def plot_sampleset2(sampleset, num_sample):\n",
    "    '''Plots results of sampling in a bar style.\n",
    "        Arg: sampleset: a set of samples prodused by DWave's sampler\n",
    "             num_sample: the number of samples received from DWave's sampler'''\n",
    "        \n",
    "    keep_vars =['p1', 'p2', 'q1', 'q2']\n",
    "    sampleset = dimod.keep_variables(sampleset, keep_vars)\n",
    "    sampleset = sampleset.aggregate()\n",
    "\n",
    "    df = sampleset.to_pandas_dataframe()\n",
    "\n",
    "    strategies = {}\n",
    "    for i, row in df.iterrows():\n",
    "        strategy = str(df['p1'][i])+str(df['p2'][i])+str(df['q1'][i])+str(df['q2'][i])\n",
    "        if len((re.findall('1', strategy))) <=2:\n",
    "            strategies[strategy]=row['num_occurrences']\n",
    "    \n",
    "    myList = strategies.items()\n",
    "    myList = [('p=(' + item[0][:1]+','+ item[0][1:2]+'), q=('+item[0][2:3]+','+ item[0][3:] +')', item[1]) for item in myList]\n",
    "    myList = sorted(myList) \n",
    "    x, y = zip(*myList) \n",
    "\n",
    "    plt.bar(x,y, color='Blue')\n",
    "    plt.title('Frequency of pure NE points based on ' +str(num_sample) + ' samples')\n",
    "    plt.xlabel('Pure Strategy')\n",
    "    plt.ylabel('Frequency')\n",
    "    plt.savefig('Frequency_2strategiesAdvantage.png', dpi=600)\n",
    "    plt.show()\n",
    "\n",
    "  \n"
   ]
  },
  {
   "cell_type": "code",
   "execution_count": null,
   "id": "57a3d7dc",
   "metadata": {},
   "outputs": [],
   "source": [
    "#paste the device arn\n",
    "start = time.time()\n",
    "emd_comp =  BraketDWaveSampler(device_arn='/...Advantage_system4')\n",
    "sampleset2 = EmbeddingComposite(emd_comp).sample(bqm, num_reads=5000)\n",
    "end = time.time()\n",
    "print('Code execution time [sec]:', end - start)"
   ]
  },
  {
   "cell_type": "code",
   "execution_count": null,
   "id": "ee7ce4da",
   "metadata": {},
   "outputs": [],
   "source": [
    "sampleset2.first"
   ]
  },
  {
   "cell_type": "code",
   "execution_count": null,
   "id": "cb034bf0",
   "metadata": {},
   "outputs": [],
   "source": [
    "plot_sampleset2(sampleset=sampleset2, num_sample=5000)"
   ]
  },
  {
   "cell_type": "code",
   "execution_count": null,
   "id": "dcfafdb0",
   "metadata": {},
   "outputs": [],
   "source": [
    "def performance(device_arn, num_sample, iter_step):\n",
    "    '''Samples from DWave's hardware and constracts graph performance.\n",
    "        Stores the info from sampleset and results of sampling\n",
    "    Args: num_sample: number of samples from a sampler, [start, end]\n",
    "          device_arn: AWS devide Arn\n",
    "          iter_step: step to itterate\n",
    "    Return: Total time for sampling on QPU.'''\n",
    "  \n",
    "    emd_comp =  BraketDWaveSampler(device_arn=device_arn)\n",
    "\n",
    "    # store in json df the samplesest\n",
    "    json_storage = {}\n",
    "    solutions = pd.DataFrame()\n",
    "\n",
    "    total_runtime = []\n",
    "    time_inQPU = []\n",
    "    time_sampling = []\n",
    "    start = num_sample[0]\n",
    "    end = num_sample[1]\n",
    "    \n",
    "    while start <= end:\n",
    "        # sample\n",
    "        sampleset = EmbeddingComposite(emd_comp).sample(bqm, num_reads=start)\n",
    "        json_storage[start] = sampleset.info\n",
    "        sampleset.to_pandas_dataframe().to_csv(device_arn[-10:] + 'sampleset.csv', mode='a')\n",
    "        \n",
    "        # total time in QPU\n",
    "        qpu_time = sampleset.info['additionalMetadata']['dwaveMetadata']['timing']['qpuAccessTime']\n",
    "\n",
    "        qpu_overhead_time = sampleset.info['additionalMetadata']['dwaveMetadata']['timing']['qpuAccessOverheadTime']\n",
    "        total_postproc = sampleset.info['additionalMetadata']['dwaveMetadata']['timing']['totalPostProcessingTime']\n",
    "        total_postproc_overhead = sampleset.info['additionalMetadata']['dwaveMetadata']['timing']['postProcessingOverheadTime']\n",
    "\n",
    "        total_runtime.append(sum([qpu_time, qpu_overhead_time, total_postproc, total_postproc_overhead]))\n",
    "        time_inQPU.append(qpu_time)\n",
    "        # time spent to sample n samples.\n",
    "        time_sampling.append(sampleset.info['additionalMetadata']['dwaveMetadata']['timing']['qpuSamplingTime'])\n",
    "\n",
    "        start += iter_step\n",
    "    \n",
    "    # Writing the info\n",
    "    file_name = device_arn[-10:] + 'sample_info.json'\n",
    "    json_file = json.dumps(json_storage)\n",
    "    with open(file_name, \"w\") as outfile:\n",
    "        outfile.write(json_file)\n",
    "    # Writing the solution sets\n",
    "    solutions.to_csv(device_arn[-10:]+'sampleset.csv')\n",
    "\n",
    "    return time_inQPU, time_sampling, total_runtime\n"
   ]
  },
  {
   "cell_type": "code",
   "execution_count": null,
   "id": "4b201ca9",
   "metadata": {},
   "outputs": [],
   "source": [
    "# sampling parameters\n",
    "start = 500\n",
    "end= 5001\n",
    "step = 500\n",
    "\n",
    "#paste the device arn\n",
    "time_inQPU2000q, time_sampling2000q, total_runtime2000q = performance(device_arn='.../DW_2000Q_6', num_sample=[start, end], iter_step=step)\n",
    "time_inQPUadvantage, time_samplingadvantage, total_runtimeadvantage = performance(device_arn='.../Advantage_system4', num_sample=[start, end], iter_step=step)\n",
    "\n",
    "x = [sample for sample in range(start, end, step) ]\n",
    "\n"
   ]
  },
  {
   "cell_type": "code",
   "execution_count": null,
   "id": "3f528e1b",
   "metadata": {},
   "outputs": [],
   "source": [
    "# plot QPU Time\n",
    "plt.plot(x, time_inQPU2000q, color='blue', marker='o', label='DWave 2000Q 6')\n",
    "plt.plot(x, time_inQPUadvantage, color='orange', marker='o', label='DWave Advantage System 4.1')\n",
    "plt.title('DWave QPU Time')\n",
    "plt.xlabel('Number of samples')\n",
    "plt.ylabel('Time, microseconds')\n",
    "plt.legend(loc=\"upper left\")\n",
    "plt.savefig('QPU_Time_2strategies.png', dpi=600)\n",
    "# plt.savefig('QPU_Time_3strategies.png', dpi=600)\n",
    "plt.show()"
   ]
  },
  {
   "cell_type": "code",
   "execution_count": null,
   "id": "308eb316",
   "metadata": {},
   "outputs": [],
   "source": [
    "# Plot Total Run time\n",
    "plt.plot(x, total_runtime2000q, color='blue', marker='o', label='DWave 2000Q 6')\n",
    "plt.plot(x, total_runtimeadvantage, color='orange', marker='o', label='DWave Advantage System 4.1')\n",
    "plt.title('DWave Total RunTime')\n",
    "plt.xlabel('Number of samples')\n",
    "plt.ylabel('Time, microseconds')\n",
    "plt.legend(loc=\"upper left\")\n",
    "plt.savefig('Total_Runtime_2strategies.png', dpi=600)\n",
    "# plt.savefig('Total_Runtime_3strategies.png', dpi=600)\n",
    "plt.show()"
   ]
  },
  {
   "cell_type": "code",
   "execution_count": null,
   "id": "a661361e",
   "metadata": {},
   "outputs": [],
   "source": [
    "# plot total sampling time\n",
    "\n",
    "plt.plot(x, time_sampling2000q, color='blue', marker='o', label='DWave 2000Q 6')\n",
    "plt.plot(x, time_samplingadvantage, color='orange', marker='o', label='DWave Advantage System 4.1')\n",
    "plt.title('DWave Sampling Time')\n",
    "plt.xlabel('Number of samples')\n",
    "plt.ylabel('Time, microseconds')\n",
    "plt.legend(loc=\"upper left\")\n",
    "plt.savefig('Sampling_Time_2strategies.png', dpi=600)\n",
    "# plt.savefig('Sampling_Time_3strategies.png', dpi=600)\n",
    "plt.show()"
   ]
  },
  {
   "cell_type": "markdown",
   "id": "a9ab9d92",
   "metadata": {},
   "source": [
    "# Run experiment for DW Advantage QPU"
   ]
  },
  {
   "cell_type": "code",
   "execution_count": null,
   "id": "a1806c9c",
   "metadata": {},
   "outputs": [],
   "source": [
    "# Constracting BQM for the 3 strategies game\n",
    "Q = {('p1', 'q1'):10, ('p1', 'q2'):-10, ('p2', 'q2'):-4, ('p2', 'q3'):-7, ('p3', 'q3'):-10}\n",
    "\n",
    "bqm = BQM(Q, vartype='BINARY')\n",
    "\n",
    "# constraints on probability\n",
    "bqm.add_linear_equality_constraint([('p1',1), ('p2', 1), ('p3', 1)], constant=-1, lagrange_multiplier=10)\n",
    "bqm.add_linear_equality_constraint([('q1',1), ('q2', 1), ('q3', 1)],  constant=-1, lagrange_multiplier=10)\n",
    "\n",
    "# inequality constraints\n",
    "# bqm.add_linear_inequality_constraint([('q1', -2), ('q2', 4), ('q3', 1)], lb=-2, ub=4, lagrange_multiplier=1, label = 'constr1')\n",
    "# bqm.add_linear_inequality_constraint([('q2', 2), ('q3', 1)], lb=1, ub=2, lagrange_multiplier=1, label = 'constr2')\n",
    "# bqm.add_linear_inequality_constraint([('q1', -5), ('q2', 12), ('q3', 10)], lb=-5, ub=12, lagrange_multiplier=1, label = 'constr3')\n",
    "# bqm.add_linear_inequality_constraint([('p1', -2), ('p3', -1)], lb=-2, ub=-1, lagrange_multiplier=1, label = 'constr4')\n",
    "# bqm.add_linear_inequality_constraint([('p1', -5), ('p2', 1), ('p3', 3)], lb=-5, ub=3, lagrange_multiplier=1, label = 'constr5')\n",
    "# bqm.add_linear_inequality_constraint([('p1', 5), ('p2', 2), ('p3', 10)], lb=2, ub=10, lagrange_multiplier=1, label = 'constr6')\n"
   ]
  },
  {
   "cell_type": "code",
   "execution_count": null,
   "id": "8cc72793",
   "metadata": {},
   "outputs": [],
   "source": [
    "# test before run \n",
    "#paste the device arn\n",
    "emd_comp =  BraketDWaveSampler(device_arn='.../DW_2000Q_6')\n",
    "sampleset3 = EmbeddingComposite(emd_comp).sample(bqm, num_reads=1000)\n",
    "\n",
    "print(\"Best solution found: \\n\",sampleset3)"
   ]
  },
  {
   "cell_type": "code",
   "execution_count": null,
   "id": "347e4fb2",
   "metadata": {},
   "outputs": [],
   "source": [
    "def plot_sampleset3(sampleset, num_sample):\n",
    "    '''Plots results of sampling in a bar style.\n",
    "        Arg: sampleset: a set of samples prodused by DWave's sampler\n",
    "             num_sample: the number of samples received from DWave's sampler'''\n",
    "    \n",
    "    keep_vars =['p1', 'p2', 'p3', 'q1', 'q2', 'q3']\n",
    "    sampleset = dimod.keep_variables(sampleset, keep_vars)\n",
    "    sampleset = sampleset.aggregate()\n",
    "\n",
    "    df = sampleset.to_pandas_dataframe()\n",
    "\n",
    "    strategies = {}\n",
    "    for i, row in df.iterrows():\n",
    "    #     print(row['num_occurrences'])\n",
    "    #     break\n",
    "        strategy = str(df['p1'][i])+str(df['p2'][i])+str(df['p3'][i])+str(df['q1'][i]) +str(df['q2'][i])+str(df['q3'][i])\n",
    "        if len((re.findall('1', strategy))) <=2:\n",
    "            strategies[strategy]=row['num_occurrences']\n",
    "\n",
    "    myList = strategies.items()\n",
    "    myList = [('p=('+item[0][:1]+','+ item[0][1:2]+','+item[0][2:3]+'), q=('+item[0][3:4]+','+ item[0][4:5]+','+ item[0][5:] +')', item[1]) for item in myList]\n",
    "    myList = sorted(myList) \n",
    "    x, y = zip(*myList) \n",
    "\n",
    "\n",
    "#     plt.barh(x,y, color='Blue')\n",
    "    plt.bar(x,y, color='Blue')\n",
    "    plt.title('Frequency of pure NE points')\n",
    "    plt.xlabel('Pure Strategy')\n",
    "    plt.xticks(rotation = 60, horizontalalignment=\"right\", rotation_mode=\"anchor\") # Rotates X-Axis Ticks by 60-degrees\n",
    "    plt.ylabel('Frequency')\n",
    "    plt.savefig('Frequency_3strategiesAdvantage.png', dpi=600, bbox_inches = \"tight\")\n",
    "    plt.show()\n"
   ]
  },
  {
   "cell_type": "code",
   "execution_count": null,
   "id": "5c04b38b",
   "metadata": {},
   "outputs": [],
   "source": [
    "#paste the device arn\n",
    "start = time.time()\n",
    "emd_comp =  BraketDWaveSampler(device_arn='.../d-wave/Advantage_system4')\n",
    "sampleset3 = EmbeddingComposite(emd_comp).sample(bqm, num_reads=5000)\n",
    "\n",
    "end = time.time()\n",
    "print('Code execution time [sec]:', end - start)\n"
   ]
  },
  {
   "cell_type": "code",
   "execution_count": null,
   "id": "49dd535d",
   "metadata": {},
   "outputs": [],
   "source": [
    "plot_sampleset3(sampleset=sampleset3, num_sample=5000)"
   ]
  },
  {
   "cell_type": "code",
   "execution_count": null,
   "id": "8b718cd5",
   "metadata": {},
   "outputs": [],
   "source": [
    "emd_comp =  BraketDWaveSampler(device_arn='.../d-wave/Advantage_system4')\n",
    "sampleset3 = EmbeddingComposite(emd_comp).sample(bqm, num_reads=5000)"
   ]
  },
  {
   "cell_type": "code",
   "execution_count": null,
   "id": "09195091",
   "metadata": {},
   "outputs": [],
   "source": [
    "plot_sampleset3(sampleset=sampleset3, num_sample=5000)"
   ]
  },
  {
   "cell_type": "code",
   "execution_count": null,
   "id": "141cce3e",
   "metadata": {},
   "outputs": [],
   "source": [
    "# sampling parameters\n",
    "start = 500\n",
    "end= 5001\n",
    "step = 500\n",
    "\n",
    "#paste the device arn\n",
    "time_inQPU2000q, time_sampling2000q, total_runtime2000q = performance(device_arn='.../DW_2000Q_6', num_sample=[start, end], iter_step=step)\n",
    "time_inQPUadvantage, time_samplingadvantage, total_runtimeadvantage = performance(device_arn='.../Advantage_system4', num_sample=[start, end], iter_step=step)\n",
    "\n",
    "x = [sample for sample in range(start, end, step) ]\n",
    "\n",
    "# plot QPU Time\n",
    "plt.plot(x, time_inQPU2000q, color='blue', marker='o', label='DWave 2000Q 6')\n",
    "plt.plot(x, time_inQPUadvantage, color='orange', marker='o', label='DWave Advantage System 4.1')\n",
    "plt.title('DWave QPU Time')\n",
    "plt.xlabel('Number of samples')\n",
    "plt.ylabel('Time, microseconds')\n",
    "plt.legend(loc=\"upper left\")\n",
    "# plt.savefig('QPU_Time_2strategies.png', dpi=600)\n",
    "plt.savefig('QPU_Time_3strategies.png', dpi=600)\n",
    "plt.show()"
   ]
  },
  {
   "cell_type": "code",
   "execution_count": null,
   "id": "1bb88c0c",
   "metadata": {},
   "outputs": [],
   "source": []
  },
  {
   "cell_type": "code",
   "execution_count": null,
   "id": "d7b8c8c6",
   "metadata": {},
   "outputs": [],
   "source": [
    "# Plot Total Run time\n",
    "plt.plot(x, total_runtime2000q, color='blue', marker='o', label='DWave 2000Q 6')\n",
    "plt.plot(x, total_runtimeadvantage, color='orange', marker='o', label='DWave Advantage System 4.1')\n",
    "plt.title('DWave Total RunTime')\n",
    "plt.xlabel('Number of samples')\n",
    "plt.ylabel('Time, microseconds')\n",
    "plt.legend(loc=\"upper left\")\n",
    "# plt.savefig('Total_Runtime_2strategies.png', dpi=600)\n",
    "plt.savefig('Total_Runtime_3strategies.png', dpi=600)\n",
    "plt.show()"
   ]
  },
  {
   "cell_type": "code",
   "execution_count": null,
   "id": "302de1b3",
   "metadata": {},
   "outputs": [],
   "source": [
    "# plot total sampling time\n",
    "\n",
    "plt.plot(x, time_sampling2000q, color='blue', marker='o', label='DWave 2000Q 6')\n",
    "plt.plot(x, time_samplingadvantage, color='orange', marker='o', label='DWave Advantage System 4.1')\n",
    "plt.title('DWave Sampling Time')\n",
    "plt.xlabel('Number of samples')\n",
    "plt.ylabel('Time, microseconds')\n",
    "plt.legend(loc=\"upper left\")\n",
    "# plt.savefig('Sampling_Time_2strategies.png', dpi=600)\n",
    "plt.savefig('Sampling_Time_3strategies.png', dpi=600)\n",
    "plt.show()"
   ]
  },
  {
   "cell_type": "markdown",
   "id": "8f5b8e33",
   "metadata": {},
   "source": [
    "# The 8 by 8 Example"
   ]
  },
  {
   "cell_type": "code",
   "execution_count": null,
   "id": "6654a876",
   "metadata": {},
   "outputs": [],
   "source": [
    "#Constracting QUBO Matrix\n",
    "Q = {('p1','q1'):-12, ('p1','q2'):-6, ('p1','q3'):-12, ('p1','q4'):-12, ('p1','q5'):-6, ('p1','q6'):-12, ('p1','q7'):-12, ('p1', 'q8'):-6,\n",
    "     ('p2','q5'):-3, ('p2','q6'):-3, ('p2','q7'):-3, ('p2', 'q8'):-3,\n",
    "     ('p3','q3'):-12, ('p3','q4'):-12, ('p3','q6'):-12, ('p3','q7'):-12, ('p3', 'q8'):-6,\n",
    "     ('p4','q4'):-12, ('p4','q5'):-4, ('p4','q6'):-12, ('p4','q7'):-12, ('p4', 'q8'):-12,\n",
    "     ('p5','q5'):-12, ('p5','q6'):-12, ('p5','q7'):-12, ('p5', 'q8'):-12,\n",
    "     ('p6','q6'):-12, ('p6','q7'):-12, ('p6', 'q8'):-12,\n",
    "     ('p7','q7'):-12, ('p7', 'q8'):-12,\n",
    "     ('p8', 'q8'):-12}\n",
    "\n",
    "bqm = BQM(Q, vartype='BINARY')\n",
    "\n",
    "# constraints on probability\n",
    "bqm.add_linear_equality_constraint([('p1',1), ('p2', 1), ('p3', 1), ('p4',1), ('p5', 1), ('p6', 1), ('p7',1), ('p8', 1)], constant=-1, lagrange_multiplier=10)\n",
    "bqm.add_linear_equality_constraint([('q1',1), ('q2', 1), ('q3', 1), ('q4',1), ('q5', 1), ('q6', 1), ('q7',1), ('q8', 1)],  constant=-1, lagrange_multiplier=10)\n",
    "\n",
    "# # inequality constraints\n",
    "bqm.add_linear_inequality_constraint([('q1',2), ('q2',3), ('q3',2),('q4',2), ('q5', 3), ('q6', 2), ('q7', 2), ('q8', 3)], lb=2, ub=3, lagrange_multiplier=1, label = 'constr1')\n",
    "bqm.add_linear_inequality_constraint([('q1',-2), ('q5', -1), ('q6', -1), ('q7', -1), ('q8', -2)], lb=-2, ub=0, lagrange_multiplier=1, label = 'constr2')\n",
    "bqm.add_linear_inequality_constraint([('q1',2), ('q3',2),('q4',2), ('q6', 2), ('q7', 2), ('q8', -1)], lb=-1, ub=2, lagrange_multiplier=1, label = 'constr3')\n",
    "bqm.add_linear_inequality_constraint([('q1',3), ('q3',3),('q4',3), ('q5', 1), ('q6', 3), ('q7', 3), ('q8', 3)], lb=0, ub=3, lagrange_multiplier=1, label = 'constr4')\n",
    "bqm.add_linear_inequality_constraint([('q1',-6), ('q2',9),('q4',4), ('q5', 12), ('q6', 12), ('q7', 12), ('q8', 12)], lb=-6, ub=12, lagrange_multiplier=1, label = 'constr5')\n",
    "bqm.add_linear_inequality_constraint([('q1',4), ('q2',3), ('q3',4),('q4',4), ('q5', 4), ('q6', 4), ('q7', 4), ('q8', 4)], lb=3, ub=4, lagrange_multiplier=1, label = 'constr6')\n",
    "bqm.add_linear_inequality_constraint([('q1',4), ('q2',3), ('q3',4),('q4',4), ('q5', 4), ('q6', 4), ('q7', 4), ('q8', 4)], lb=3, ub=4, lagrange_multiplier=1, label = 'constr7')\n",
    "bqm.add_linear_inequality_constraint([('q1',-1), ('q2',3), ('q3',3),('q4',2), ('q5', 2), ('q6', 2), ('q7', 2), ('q8', 2)], lb=-1, ub=4, lagrange_multiplier=1, label = 'constr8')\n",
    "\n",
    "bqm.add_linear_inequality_constraint([('p1',2), ('p2',-1), ('p3',2), ('p4',2), ('p5',-1), ('p6',2), ('p7',2), ('p8',-1)], lb=-1, ub=2, lagrange_multiplier=1, label = 'constr9')\n",
    "bqm.add_linear_inequality_constraint([('p1',2), ('p5',1), ('p6',1), ('p7',1), ('p8',2)], lb=0, ub=2, lagrange_multiplier=1, label = 'constr10')\n",
    "bqm.add_linear_inequality_constraint([('p1',2), ('p3',2), ('p4',2), ('p6',2), ('p7',2), ('p8',3)], lb=0, ub=3, lagrange_multiplier=1, label = 'constr11')\n",
    "bqm.add_linear_inequality_constraint([('p1',2), ('p3',2), ('p4',2), ('p5',1), ('p6',2), ('p7',2), ('p8',2)], lb=0, ub=2, lagrange_multiplier=1, label = 'constr12')\n",
    "bqm.add_linear_inequality_constraint([('p1',18), ('p2',-3), ('p4',2), ('p5',12), ('p6',12), ('p7',12), ('p8',12)], lb=-3, ub=18, lagrange_multiplier=1, label = 'constr13')\n",
    "bqm.add_linear_inequality_constraint([('p1',4), ('p2',-1), ('p3',4), ('p4',4), ('p5',4), ('p6',4), ('p7',4), ('p8',4)], lb=-1, ub=4, lagrange_multiplier=1, label = 'constr14')\n",
    "bqm.add_linear_inequality_constraint([('p1',4), ('p2',-1), ('p3',4), ('p4',4), ('p5',4), ('p6',4), ('p7',4), ('p8',4)], lb=-1, ub=4, lagrange_multiplier=1, label = 'constr15')\n",
    "bqm.add_linear_inequality_constraint([('p1',3), ('p2',-1), ('p3',-1), ('p4',2), ('p5',2), ('p6',2), ('p7',2), ('p8',2)], lb=-1, ub=3, lagrange_multiplier=1, label = 'constr16')\n",
    "\n"
   ]
  },
  {
   "cell_type": "code",
   "execution_count": null,
   "id": "6f98cc56",
   "metadata": {},
   "outputs": [],
   "source": [
    "def plot_sampleset_8by8(sampleset, num_sample, num_try):\n",
    "    '''Plots results of sampling in a bar style.\n",
    "        Arg: sampleset: a set of samples prodused by DWave's sampler\n",
    "             num_sample: the number of samples received from DWave's sampler'''\n",
    "    \n",
    "    keep_vars =['p1', 'p2', 'p3', 'p4', 'p5', 'p6', 'p7', 'p8', 'q1', 'q2', 'q3',\n",
    "                'q4', 'q5', 'q6', 'q7', 'q8']\n",
    "    sampleset = dimod.keep_variables(sampleset, keep_vars)\n",
    "    sampleset = sampleset.aggregate()\n",
    "\n",
    "    df = sampleset.to_pandas_dataframe()\n",
    "\n",
    "    strategies = {}\n",
    "    for i, row in df.iterrows():\n",
    "        strategy = str(df['p1'][i])+str(df['p2'][i])+str(df['p3'][i]) \\\n",
    "                  +str(df['p4'][i])+str(df['p5'][i])+str(df['p6'][i]) \\\n",
    "                  +str(df['p7'][i])+str(df['p8'][i])+str(df['q1'][i]) \\\n",
    "                  +str(df['q2'][i])+str(df['q3'][i])+ str(df['q4'][i])+str(df['q5'][i]) \\\n",
    "                  +str(df['q6'][i])+str(df['q7'][i])+str(df['q8'][i])\n",
    "        if len((re.findall('1', strategy))) <=2:\n",
    "            strategies[strategy]=row['num_occurrences']\n",
    "    \n",
    "    # drop lower that 50\n",
    "    strategies = {key:value for key, value in strategies.items() if value >= 50 }\n",
    "    \n",
    "    myList = strategies.items()\n",
    "    myList = [('p=('+item[0][:8]+'), q=('+item[0][8:] +')', item[1]) for item in myList]\n",
    "    # print('myList =', myList)\n",
    "    myList = sorted(myList) \n",
    "    x, y = zip(*myList) \n",
    "\n",
    "    plt.figure(figsize=(30,10))\n",
    "    plt.margins(x=0.01)\n",
    "    plt.bar(x,y, color='Blue')\n",
    "    plt.xticks(fontsize=20)\n",
    "    plt.yticks(fontsize=20)\n",
    "    plt.title('Frequency of pure NE points based on ' +str(num_sample) + ' samples', fontsize=20)\n",
    "    plt.xlabel('Pure Strategy', fontsize=20)\n",
    "    plt.xticks(rotation = 90, horizontalalignment=\"right\", rotation_mode=\"anchor\")\n",
    "    plt.ylabel('Frequency', fontsize=20)\n",
    "    plt.tight_layout()\n",
    "    plt.savefig('Frequency_8strategiesAdvantage_'+str(num_try)+'.png', dpi=600, bbox_inches = \"tight\")\n",
    "    plt.savefig('Frequency_8strategiesAdvantage_'+str(num_try)+'.pdf', dpi=600, bbox_inches = \"tight\")\n",
    "    plt.show()\n",
    "\n"
   ]
  },
  {
   "cell_type": "code",
   "execution_count": null,
   "id": "f1712913",
   "metadata": {},
   "outputs": [],
   "source": [
    "# !!!!!!!!! test before run \n",
    "#paste the device arn\n",
    "\n",
    "# emd_comp =  BraketDWaveSampler(device_arn='.../DW_2000Q_6')\n",
    "emd_comp =  BraketDWaveSampler(device_arn='.../Advantage_system4')\n",
    "# timing\n",
    "t_initial = time.time()\n",
    "sampleset8 = EmbeddingComposite(emd_comp).sample(bqm, num_reads=5000, annealing_time=100)\n",
    "t_final  = time.time()\n",
    "\n",
    "print(\"Best solution found: \\n\", sampleset8)"
   ]
  },
  {
   "cell_type": "code",
   "execution_count": null,
   "id": "2ac39de2",
   "metadata": {},
   "outputs": [],
   "source": [
    "#pass parameters before running\n",
    "num_try = 22 # store the outputs based on tries to select the best possible later\n",
    "num_sample=5000\n",
    "\n",
    "\n",
    "plot_sampleset_8by8(sampleset8, num_sample=num_sample, num_try=num_try)"
   ]
  },
  {
   "cell_type": "code",
   "execution_count": null,
   "id": "ac8496e7",
   "metadata": {},
   "outputs": [],
   "source": [
    "print(sampleset8.info['additionalMetadata']['dwaveMetadata']['timing']) "
   ]
  },
  {
   "cell_type": "code",
   "execution_count": null,
   "id": "a1b306d3",
   "metadata": {},
   "outputs": [],
   "source": [
    "\n",
    "\n",
    "# postprocessed = greedy.SteepestDescentSampler().sample(bqm, initial_states=sampleset8)\n",
    "postprocessed = greedy.SteepestDescentSolver().sample(bqm, initial_states=sampleset8)\n"
   ]
  },
  {
   "cell_type": "code",
   "execution_count": null,
   "id": "de8fbb0b",
   "metadata": {},
   "outputs": [],
   "source": [
    "print(postprocessed)"
   ]
  },
  {
   "cell_type": "code",
   "execution_count": null,
   "id": "3729ce85",
   "metadata": {},
   "outputs": [],
   "source": [
    "num_try=23\n",
    "plot_sampleset_8by8(postprocessed, num_sample=5000, num_try=num_try)"
   ]
  },
  {
   "cell_type": "code",
   "execution_count": null,
   "id": "fd98765e",
   "metadata": {},
   "outputs": [],
   "source": []
  },
  {
   "cell_type": "code",
   "execution_count": null,
   "id": "a3853b79",
   "metadata": {},
   "outputs": [],
   "source": []
  },
  {
   "cell_type": "code",
   "execution_count": null,
   "id": "3e07531b",
   "metadata": {},
   "outputs": [],
   "source": []
  },
  {
   "cell_type": "code",
   "execution_count": null,
   "id": "38b278d9",
   "metadata": {},
   "outputs": [],
   "source": []
  },
  {
   "cell_type": "code",
   "execution_count": null,
   "id": "ed82a503",
   "metadata": {},
   "outputs": [],
   "source": []
  },
  {
   "cell_type": "code",
   "execution_count": null,
   "id": "fe3cf4fe",
   "metadata": {},
   "outputs": [],
   "source": [
    "#paste the device arn\n",
    "start = time.time()\n",
    "emd_comp =  BraketDWaveSampler(device_arn='.../DW_2000Q_6')\n",
    "sampleset8 = EmbeddingComposite(emd_comp).sample(bqm, num_reads=5000)\n",
    "\n",
    "end = time.time()\n",
    "print('Code execution time [sec]:', end - start)\n"
   ]
  },
  {
   "cell_type": "code",
   "execution_count": null,
   "id": "6f9621aa",
   "metadata": {},
   "outputs": [],
   "source": [
    "# plotting\n",
    "plot_sampleset_8by8(sampleset=sampleset8, num_sample=5000)"
   ]
  },
  {
   "cell_type": "code",
   "execution_count": null,
   "id": "d3b55730",
   "metadata": {},
   "outputs": [],
   "source": [
    "#paste the device arn\n",
    "start = time.time()\n",
    "emd_comp =  BraketDWaveSampler(device_arn='.../Advantage_system4')\n",
    "sampleset8 = EmbeddingComposite(emd_comp).sample(bqm, num_reads=5000)\n",
    "\n",
    "end = time.time()\n",
    "print('Code execution time [sec]:', end - start)\n"
   ]
  },
  {
   "cell_type": "code",
   "execution_count": null,
   "id": "235301a9",
   "metadata": {},
   "outputs": [],
   "source": [
    "# plotting\n",
    "plot_sampleset_8by8(sampleset=sampleset8, num_sample=5000)"
   ]
  },
  {
   "cell_type": "code",
   "execution_count": null,
   "id": "6347970c",
   "metadata": {},
   "outputs": [],
   "source": [
    "# sampling parameters\n",
    "start = 500\n",
    "end= 5001\n",
    "step = 500\n",
    "\n",
    "#paste the device arn\n",
    "time_inQPU2000q, time_sampling2000q, total_runtime2000q = performance(device_arn='.../DW_2000Q_6', num_sample=[start, end], iter_step=step)\n",
    "time_inQPUadvantage, time_samplingadvantage, total_runtimeadvantage = performance(device_arn='.../Advantage_system4', num_sample=[start, end], iter_step=step)\n",
    "\n",
    "x = [sample for sample in range(start, end, step) ]"
   ]
  },
  {
   "cell_type": "code",
   "execution_count": null,
   "id": "e898758d",
   "metadata": {},
   "outputs": [],
   "source": [
    "# plot QPU Time\n",
    "plt.plot(x, time_inQPU2000q, color='blue', marker='o', label='DWave 2000Q 6')\n",
    "plt.plot(x, time_inQPUadvantage, color='orange', marker='o', label='DWave Advantage System 4.1')\n",
    "plt.title('DWave QPU Time')\n",
    "plt.xlabel('Number of samples')\n",
    "plt.ylabel('Time, microseconds')\n",
    "plt.legend(loc=\"upper left\")\n",
    "plt.savefig('QPU_Time_8strategies.png', dpi=600)\n",
    "plt.savefig('QPU_Time_8strategies.pdf', dpi=600)\n",
    "plt.show()"
   ]
  },
  {
   "cell_type": "code",
   "execution_count": null,
   "id": "6bb3859b",
   "metadata": {},
   "outputs": [],
   "source": [
    "# Plot Total Run time\n",
    "plt.plot(x, total_runtime2000q, color='blue', marker='o', label='DWave 2000Q 6')\n",
    "plt.plot(x, total_runtimeadvantage, color='orange', marker='o', label='DWave Advantage System 4.1')\n",
    "plt.title('DWave Total RunTime')\n",
    "plt.xlabel('Number of samples')\n",
    "plt.ylabel('Time, microseconds')\n",
    "plt.legend(loc=\"upper left\")\n",
    "plt.savefig('Total_Runtime_8strategies.png', dpi=600)\n",
    "plt.savefig('Total_Runtime_8strategies.pdf', dpi=600)\n",
    "plt.show()"
   ]
  },
  {
   "cell_type": "code",
   "execution_count": null,
   "id": "75cd27b4",
   "metadata": {},
   "outputs": [],
   "source": [
    "# plot total sampling time\n",
    "\n",
    "plt.plot(x, time_sampling2000q, color='blue', marker='o', label='DWave 2000Q 6')\n",
    "plt.plot(x, time_samplingadvantage, color='orange', marker='o', label='DWave Advantage System 4.1')\n",
    "plt.title('DWave Sampling Time')\n",
    "plt.xlabel('Number of samples')\n",
    "plt.ylabel('Time, microseconds')\n",
    "plt.legend(loc=\"upper left\")\n",
    "plt.savefig('Sampling_Time_8strategies.png', dpi=600)\n",
    "plt.savefig('Sampling_Tim_8strategies.pdf', dpi=600)\n",
    "plt.show()"
   ]
  },
  {
   "cell_type": "code",
   "execution_count": null,
   "id": "d6949878",
   "metadata": {},
   "outputs": [],
   "source": []
  }
 ],
 "metadata": {
  "kernelspec": {
   "display_name": "conda_braket",
   "language": "python",
   "name": "conda_braket"
  },
  "language_info": {
   "codemirror_mode": {
    "name": "ipython",
    "version": 3
   },
   "file_extension": ".py",
   "mimetype": "text/x-python",
   "name": "python",
   "nbconvert_exporter": "python",
   "pygments_lexer": "ipython3",
   "version": "3.7.13"
  }
 },
 "nbformat": 4,
 "nbformat_minor": 5
}
